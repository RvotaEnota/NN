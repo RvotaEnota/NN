{
 "cells": [
  {
   "cell_type": "code",
   "execution_count": 4,
   "id": "2da86fb3",
   "metadata": {},
   "outputs": [
    {
     "name": "stdout",
     "output_type": "stream",
     "text": [
      "Количество весов нейросети =  38010\n"
     ]
    }
   ],
   "source": [
    "import torch.nn as nn\n",
    "model = nn.Sequential(\n",
    "          nn.Conv2d(3, 1000, 3), # мистический свёрточный слой\n",
    "          nn.ReLU(),\n",
    "          nn.Flatten(),\n",
    "          nn.Linear(1000, 10),\n",
    "          nn.Softmax(dim=   1),\n",
    "        )\n",
    "\n",
    "print(\"Количество весов нейросети = \", sum(p.numel() for p in model.parameters()))"
   ]
  },
  {
   "cell_type": "code",
   "execution_count": 5,
   "id": "d7fa8336",
   "metadata": {},
   "outputs": [
    {
     "data": {
      "text/plain": [
       "<matplotlib.image.AxesImage at 0x132aa065510>"
      ]
     },
     "execution_count": 5,
     "metadata": {},
     "output_type": "execute_result"
    },
    {
     "data": {
      "image/png": "[encoded data removed]",
      "text/plain": [
       "<Figure size 640x480 with 2 Axes>"
      ]
     },
     "metadata": {},
     "output_type": "display_data"
    }
   ],
   "source": [
    "from PIL import Image\n",
    "from matplotlib import pyplot as plt\n",
    "import torch\n",
    "from torchvision.transforms.functional import to_tensor\n",
    "\n",
    "image = Image.open(r'D:\\first_sprint\\img.png')\n",
    "image_tensor = to_tensor(image) # тензор [1, 28, 28]\n",
    "\n",
    "# добавлено ещё одно измерение, чтобы получить [1, 1, 28, 28]\n",
    "image_tensor = image_tensor.unsqueeze(0) \n",
    "\n",
    "kernel = torch.Tensor([[[[3, 10, 3], \n",
    "                         [0, 0, 0], \n",
    "                         [-3, -10, -3]]]])\n",
    "\n",
    "result = torch.nn.functional.conv2d(image_tensor, kernel)\n",
    "\n",
    "# визуализация\n",
    "fig = plt.figure()\n",
    "plt.subplot(1, 2, 1)\n",
    "plt.imshow(image, cmap = 'gray')\n",
    "\n",
    "plt.subplot(1, 2, 2)\n",
    "plt.imshow(result[0][0], cmap = 'gray')"
   ]
  },
  {
   "cell_type": "code",
   "execution_count": 6,
   "id": "087241df",
   "metadata": {},
   "outputs": [
    {
     "data": {
      "text/plain": [
       "<matplotlib.image.AxesImage at 0x132aa552a90>"
      ]
     },
     "execution_count": 6,
     "metadata": {},
     "output_type": "execute_result"
    },
    {
     "data": {
      "image/png": "[encoded data removed]",
      "text/plain": [
       "<Figure size 640x480 with 2 Axes>"
      ]
     },
     "metadata": {},
     "output_type": "display_data"
    }
   ],
   "source": [
    "from PIL import Image\n",
    "from matplotlib import pyplot as plt\n",
    "import torch\n",
    "from torchvision.transforms.functional import to_tensor\n",
    "\n",
    "image = Image.open(r'D:\\first_sprint\\img.png')\n",
    "image_tensor = to_tensor(image) # тензор [1, 28, 28]\n",
    "\n",
    "# добавлено ещё одно измерение, чтобы получить [1, 1, 28, 28]\n",
    "image_tensor = image_tensor.unsqueeze(0) \n",
    "\n",
    "kernel = torch.Tensor([[[[3, 0, -3], \n",
    "                         [10, 0, -10], \n",
    "                         [3, 0, -3]]]])\n",
    "\n",
    "result = torch.nn.functional.conv2d(image_tensor, kernel)\n",
    "\n",
    "# визуализация\n",
    "fig = plt.figure()\n",
    "plt.subplot(1, 2, 1)\n",
    "plt.imshow(image, cmap = 'gray')\n",
    "\n",
    "plt.subplot(1, 2, 2)\n",
    "plt.imshow(result[0][0], cmap = 'gray')"
   ]
  },
  {
   "cell_type": "code",
   "execution_count": 8,
   "id": "84756ec8",
   "metadata": {},
   "outputs": [
    {
     "data": {
      "text/plain": [
       "<matplotlib.image.AxesImage at 0x132aa59e550>"
      ]
     },
     "execution_count": 8,
     "metadata": {},
     "output_type": "execute_result"
    },
    {
     "data": {
      "image/png": "[encoded data removed]",
      "text/plain": [
       "<Figure size 640x480 with 2 Axes>"
      ]
     },
     "metadata": {},
     "output_type": "display_data"
    }
   ],
   "source": [
    "from PIL import Image\n",
    "from matplotlib import pyplot as plt\n",
    "import torch\n",
    "import numpy as np\n",
    "from torchvision.transforms.functional import to_tensor\n",
    "\n",
    "image = Image.open(r'D:\\first_sprint\\img_colored.png')\n",
    "image_tensor = to_tensor(image) # тензор [1, 3, 28, 28]\n",
    "image_tensor = image_tensor.unsqueeze(0) \n",
    "\n",
    "kernel = np.array([[3, 0, -3], # обычный фильтр вертикальных линий\n",
    "                   [10, 0, -10],\n",
    "                   [3, 0, -3]])\n",
    "\n",
    "kernel_3D = np.tile(kernel, (3, 1, 1)) # трёхмерный фильтр вертикальных линий\n",
    "kernel_3D = torch.Tensor(kernel_3D) \n",
    "kernel_3D = kernel_3D.unsqueeze(0) # приведён к форме [1, 3, 3, 3]\n",
    "\n",
    "result = torch.nn.functional.conv2d(image_tensor, kernel_3D)\n",
    "\n",
    "# визуализация\n",
    "fig = plt.figure()\n",
    "plt.subplot(1, 2, 1)\n",
    "plt.imshow(image)\n",
    "\n",
    "plt.subplot(1, 2, 2)\n",
    "plt.imshow(result[0][0], cmap = 'gray')"
   ]
  },
  {
   "cell_type": "code",
   "execution_count": 11,
   "id": "20fef613",
   "metadata": {},
   "outputs": [
    {
     "name": "stdout",
     "output_type": "stream",
     "text": [
      "Размерность тензора:  torch.Size([1, 20, 26, 26])\n"
     ]
    }
   ],
   "source": [
    "from PIL import Image\n",
    "from matplotlib import pyplot as plt\n",
    "import numpy as np\n",
    "from torchvision.transforms.functional import to_tensor\n",
    "import torch.nn as nn\n",
    "\n",
    "image = Image.open(r'D:\\first_sprint\\img_colored.png')\n",
    "image_tensor = to_tensor(image)\n",
    "image_tensor = image_tensor.unsqueeze(0)\n",
    "\n",
    "conv_layer = nn.Conv2d(3, 20, 3)\n",
    "result = conv_layer(image_tensor).detach()\n",
    "\n",
    "print(\"Размерность тензора: \", result.shape) "
   ]
  },
  {
   "cell_type": "code",
   "execution_count": null,
   "id": "1cdca951",
   "metadata": {},
   "outputs": [],
   "source": []
  }
 ],
 "metadata": {
  "kernelspec": {
   "display_name": ".venv",
   "language": "python",
   "name": "python3"
  },
  "language_info": {
   "codemirror_mode": {
    "name": "ipython",
    "version": 3
   },
   "file_extension": ".py",
   "mimetype": "text/x-python",
   "name": "python",
   "nbconvert_exporter": "python",
   "pygments_lexer": "ipython3",
   "version": "3.11.7"
  }
 },
 "nbformat": 4,
 "nbformat_minor": 5
}
